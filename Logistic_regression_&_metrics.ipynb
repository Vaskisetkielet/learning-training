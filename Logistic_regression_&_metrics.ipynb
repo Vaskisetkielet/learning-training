{
  "nbformat": 4,
  "nbformat_minor": 0,
  "metadata": {
    "colab": {
      "provenance": [],
      "authorship_tag": "ABX9TyMCo+gDChP5/jo2U3418ctS",
      "include_colab_link": true
    },
    "kernelspec": {
      "name": "python3",
      "display_name": "Python 3"
    },
    "language_info": {
      "name": "python"
    },
    "widgets": {
      "application/vnd.jupyter.widget-state+json": {
        "c61589e09a9848cd8302028c9c3739fc": {
          "model_module": "@jupyter-widgets/controls",
          "model_name": "VBoxModel",
          "model_module_version": "1.5.0",
          "state": {
            "_dom_classes": [
              "widget-interact"
            ],
            "_model_module": "@jupyter-widgets/controls",
            "_model_module_version": "1.5.0",
            "_model_name": "VBoxModel",
            "_view_count": null,
            "_view_module": "@jupyter-widgets/controls",
            "_view_module_version": "1.5.0",
            "_view_name": "VBoxView",
            "box_style": "",
            "children": [
              "IPY_MODEL_771810bc54c94f1687e8627e78393481",
              "IPY_MODEL_1564a99d979345b8989aa121d7ca180b",
              "IPY_MODEL_e9d39d9e7226475f9a71aba74a596067"
            ],
            "layout": "IPY_MODEL_980fd196c5b349689fb7fe558d828367"
          }
        },
        "771810bc54c94f1687e8627e78393481": {
          "model_module": "@jupyter-widgets/controls",
          "model_name": "FloatSliderModel",
          "model_module_version": "1.5.0",
          "state": {
            "_dom_classes": [],
            "_model_module": "@jupyter-widgets/controls",
            "_model_module_version": "1.5.0",
            "_model_name": "FloatSliderModel",
            "_view_count": null,
            "_view_module": "@jupyter-widgets/controls",
            "_view_module_version": "1.5.0",
            "_view_name": "FloatSliderView",
            "continuous_update": true,
            "description": "a",
            "description_tooltip": null,
            "disabled": false,
            "layout": "IPY_MODEL_8aa927cc42a346f1b44d7aa932ce6675",
            "max": 3,
            "min": -3,
            "orientation": "horizontal",
            "readout": true,
            "readout_format": ".2f",
            "step": 0.1,
            "style": "IPY_MODEL_2360403190f2469eae135750b8ff58d9",
            "value": 0
          }
        },
        "1564a99d979345b8989aa121d7ca180b": {
          "model_module": "@jupyter-widgets/controls",
          "model_name": "FloatSliderModel",
          "model_module_version": "1.5.0",
          "state": {
            "_dom_classes": [],
            "_model_module": "@jupyter-widgets/controls",
            "_model_module_version": "1.5.0",
            "_model_name": "FloatSliderModel",
            "_view_count": null,
            "_view_module": "@jupyter-widgets/controls",
            "_view_module_version": "1.5.0",
            "_view_name": "FloatSliderView",
            "continuous_update": true,
            "description": "b",
            "description_tooltip": null,
            "disabled": false,
            "layout": "IPY_MODEL_1b5a22bea565498a936b1244b8a36ff0",
            "max": 3,
            "min": -3,
            "orientation": "horizontal",
            "readout": true,
            "readout_format": ".2f",
            "step": 0.5,
            "style": "IPY_MODEL_cab8bc5007994d3ba158036528333b04",
            "value": 0
          }
        },
        "e9d39d9e7226475f9a71aba74a596067": {
          "model_module": "@jupyter-widgets/output",
          "model_name": "OutputModel",
          "model_module_version": "1.0.0",
          "state": {
            "_dom_classes": [],
            "_model_module": "@jupyter-widgets/output",
            "_model_module_version": "1.0.0",
            "_model_name": "OutputModel",
            "_view_count": null,
            "_view_module": "@jupyter-widgets/output",
            "_view_module_version": "1.0.0",
            "_view_name": "OutputView",
            "layout": "IPY_MODEL_c10de164fe00481abc2a638463c0ef8b",
            "msg_id": "",
            "outputs": [
              {
                "output_type": "display_data",
                "data": {
                  "text/plain": "<Figure size 640x480 with 1 Axes>",
                  "image/png": "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\n"
                },
                "metadata": {}
              }
            ]
          }
        },
        "980fd196c5b349689fb7fe558d828367": {
          "model_module": "@jupyter-widgets/base",
          "model_name": "LayoutModel",
          "model_module_version": "1.2.0",
          "state": {
            "_model_module": "@jupyter-widgets/base",
            "_model_module_version": "1.2.0",
            "_model_name": "LayoutModel",
            "_view_count": null,
            "_view_module": "@jupyter-widgets/base",
            "_view_module_version": "1.2.0",
            "_view_name": "LayoutView",
            "align_content": null,
            "align_items": null,
            "align_self": null,
            "border": null,
            "bottom": null,
            "display": null,
            "flex": null,
            "flex_flow": null,
            "grid_area": null,
            "grid_auto_columns": null,
            "grid_auto_flow": null,
            "grid_auto_rows": null,
            "grid_column": null,
            "grid_gap": null,
            "grid_row": null,
            "grid_template_areas": null,
            "grid_template_columns": null,
            "grid_template_rows": null,
            "height": null,
            "justify_content": null,
            "justify_items": null,
            "left": null,
            "margin": null,
            "max_height": null,
            "max_width": null,
            "min_height": null,
            "min_width": null,
            "object_fit": null,
            "object_position": null,
            "order": null,
            "overflow": null,
            "overflow_x": null,
            "overflow_y": null,
            "padding": null,
            "right": null,
            "top": null,
            "visibility": null,
            "width": null
          }
        },
        "8aa927cc42a346f1b44d7aa932ce6675": {
          "model_module": "@jupyter-widgets/base",
          "model_name": "LayoutModel",
          "model_module_version": "1.2.0",
          "state": {
            "_model_module": "@jupyter-widgets/base",
            "_model_module_version": "1.2.0",
            "_model_name": "LayoutModel",
            "_view_count": null,
            "_view_module": "@jupyter-widgets/base",
            "_view_module_version": "1.2.0",
            "_view_name": "LayoutView",
            "align_content": null,
            "align_items": null,
            "align_self": null,
            "border": null,
            "bottom": null,
            "display": null,
            "flex": null,
            "flex_flow": null,
            "grid_area": null,
            "grid_auto_columns": null,
            "grid_auto_flow": null,
            "grid_auto_rows": null,
            "grid_column": null,
            "grid_gap": null,
            "grid_row": null,
            "grid_template_areas": null,
            "grid_template_columns": null,
            "grid_template_rows": null,
            "height": null,
            "justify_content": null,
            "justify_items": null,
            "left": null,
            "margin": null,
            "max_height": null,
            "max_width": null,
            "min_height": null,
            "min_width": null,
            "object_fit": null,
            "object_position": null,
            "order": null,
            "overflow": null,
            "overflow_x": null,
            "overflow_y": null,
            "padding": null,
            "right": null,
            "top": null,
            "visibility": null,
            "width": null
          }
        },
        "2360403190f2469eae135750b8ff58d9": {
          "model_module": "@jupyter-widgets/controls",
          "model_name": "SliderStyleModel",
          "model_module_version": "1.5.0",
          "state": {
            "_model_module": "@jupyter-widgets/controls",
            "_model_module_version": "1.5.0",
            "_model_name": "SliderStyleModel",
            "_view_count": null,
            "_view_module": "@jupyter-widgets/base",
            "_view_module_version": "1.2.0",
            "_view_name": "StyleView",
            "description_width": "",
            "handle_color": null
          }
        },
        "1b5a22bea565498a936b1244b8a36ff0": {
          "model_module": "@jupyter-widgets/base",
          "model_name": "LayoutModel",
          "model_module_version": "1.2.0",
          "state": {
            "_model_module": "@jupyter-widgets/base",
            "_model_module_version": "1.2.0",
            "_model_name": "LayoutModel",
            "_view_count": null,
            "_view_module": "@jupyter-widgets/base",
            "_view_module_version": "1.2.0",
            "_view_name": "LayoutView",
            "align_content": null,
            "align_items": null,
            "align_self": null,
            "border": null,
            "bottom": null,
            "display": null,
            "flex": null,
            "flex_flow": null,
            "grid_area": null,
            "grid_auto_columns": null,
            "grid_auto_flow": null,
            "grid_auto_rows": null,
            "grid_column": null,
            "grid_gap": null,
            "grid_row": null,
            "grid_template_areas": null,
            "grid_template_columns": null,
            "grid_template_rows": null,
            "height": null,
            "justify_content": null,
            "justify_items": null,
            "left": null,
            "margin": null,
            "max_height": null,
            "max_width": null,
            "min_height": null,
            "min_width": null,
            "object_fit": null,
            "object_position": null,
            "order": null,
            "overflow": null,
            "overflow_x": null,
            "overflow_y": null,
            "padding": null,
            "right": null,
            "top": null,
            "visibility": null,
            "width": null
          }
        },
        "cab8bc5007994d3ba158036528333b04": {
          "model_module": "@jupyter-widgets/controls",
          "model_name": "SliderStyleModel",
          "model_module_version": "1.5.0",
          "state": {
            "_model_module": "@jupyter-widgets/controls",
            "_model_module_version": "1.5.0",
            "_model_name": "SliderStyleModel",
            "_view_count": null,
            "_view_module": "@jupyter-widgets/base",
            "_view_module_version": "1.2.0",
            "_view_name": "StyleView",
            "description_width": "",
            "handle_color": null
          }
        },
        "c10de164fe00481abc2a638463c0ef8b": {
          "model_module": "@jupyter-widgets/base",
          "model_name": "LayoutModel",
          "model_module_version": "1.2.0",
          "state": {
            "_model_module": "@jupyter-widgets/base",
            "_model_module_version": "1.2.0",
            "_model_name": "LayoutModel",
            "_view_count": null,
            "_view_module": "@jupyter-widgets/base",
            "_view_module_version": "1.2.0",
            "_view_name": "LayoutView",
            "align_content": null,
            "align_items": null,
            "align_self": null,
            "border": null,
            "bottom": null,
            "display": null,
            "flex": null,
            "flex_flow": null,
            "grid_area": null,
            "grid_auto_columns": null,
            "grid_auto_flow": null,
            "grid_auto_rows": null,
            "grid_column": null,
            "grid_gap": null,
            "grid_row": null,
            "grid_template_areas": null,
            "grid_template_columns": null,
            "grid_template_rows": null,
            "height": "420px",
            "justify_content": null,
            "justify_items": null,
            "left": null,
            "margin": null,
            "max_height": null,
            "max_width": null,
            "min_height": null,
            "min_width": null,
            "object_fit": null,
            "object_position": null,
            "order": null,
            "overflow": null,
            "overflow_x": null,
            "overflow_y": null,
            "padding": null,
            "right": null,
            "top": null,
            "visibility": null,
            "width": null
          }
        }
      }
    }
  },
  "cells": [
    {
      "cell_type": "markdown",
      "metadata": {
        "id": "view-in-github",
        "colab_type": "text"
      },
      "source": [
        "<a href=\"https://colab.research.google.com/github/Vaskisetkielet/learning-training/blob/main/Logistic_regression_%26_metrics.ipynb\" target=\"_parent\"><img src=\"https://colab.research.google.com/assets/colab-badge.svg\" alt=\"Open In Colab\"/></a>"
      ]
    },
    {
      "cell_type": "code",
      "execution_count": 517,
      "metadata": {
        "id": "Xa2yAd9gKsJ2"
      },
      "outputs": [],
      "source": [
        "import pandas as pd\n",
        "import numpy as np\n",
        "import random\n",
        "from scipy import stats\n",
        "import matplotlib.pyplot as plt\n",
        "from sklearn.model_selection import train_test_split\n",
        "from sklearn.preprocessing import StandardScaler\n",
        "from sklearn.linear_model import LogisticRegression\n",
        "from sklearn.metrics import roc_auc_score\n",
        "from sympy import *"
      ]
    },
    {
      "cell_type": "markdown",
      "source": [
        "# Логистическая регрессия"
      ],
      "metadata": {
        "id": "jD3RN0jhRx1c"
      }
    },
    {
      "cell_type": "markdown",
      "source": [
        "Логистическая регрессия - это модель, используемая для прогнозирования вероятности некоторого события путём его сравнения с логистической кривой. При этом подразумевается, что пространство вероятностей можно разделить линейной границей. Почему для прогнозирования используется кривая, а не прямая, как в линейной регрессии? Ответ на этот вопрос дан ниже."
      ],
      "metadata": {
        "id": "6qmTvs0uRx_M"
      }
    },
    {
      "cell_type": "markdown",
      "source": [
        "# Построение модели"
      ],
      "metadata": {
        "id": "c8E2Zo0YQ4LC"
      }
    },
    {
      "cell_type": "markdown",
      "source": [
        "Для начала сформируем выборку из `x` и `y`, где `x` является случайным нормализированным числом, а `y` - значением 0 или 1 и посмотрим её графическую репрезентацию."
      ],
      "metadata": {
        "id": "5OlWaZ-GQoIo"
      }
    },
    {
      "cell_type": "code",
      "source": [
        "def create_logist_regr():\n",
        "  len_of_array = 50\n",
        "  noise = np.random.normal(0,1,len_of_array)\n",
        "  sign = random.choice([-1,1])\n",
        "  a0 = random.randint(-2,2) + random.random() * sign\n",
        "  b0 = random.randint(0,4) + random.random() * sign\n",
        "\n",
        "  x = np.random.uniform(1,20,len_of_array)\n",
        "  y = a0 * x + b0 + noise\n",
        "  y = np.array([1 if i > np.median(y) else 0 for i in y])\n",
        "  return x,y"
      ],
      "metadata": {
        "id": "WNxGzAgsKs75"
      },
      "execution_count": 518,
      "outputs": []
    },
    {
      "cell_type": "code",
      "source": [
        "x, y = create_logist_regr()\n",
        "scaler = StandardScaler()\n",
        "x = x.reshape(-1,1)\n",
        "x = scaler.fit_transform(x)\n",
        "x = x.ravel()\n",
        "x, y = sorted(x), sorted(y)\n",
        "\n",
        "plt.scatter(x,y,c='b')\n",
        "plt.title('Распределение выборки')\n",
        "plt.xlabel('Количество N')\n",
        "plt.ylabel('Статус N')\n",
        "df = pd.DataFrame({\"x\":x,\"y\":y})"
      ],
      "metadata": {
        "colab": {
          "base_uri": "https://localhost:8080/",
          "height": 472
        },
        "id": "KOxSGSXL85Bp",
        "outputId": "298d800f-5584-4846-9271-203a43ffb8aa"
      },
      "execution_count": 519,
      "outputs": [
        {
          "output_type": "display_data",
          "data": {
            "text/plain": [
              "<Figure size 640x480 with 1 Axes>"
            ],
            "image/png": "[encoded data removed]"
          },
          "metadata": {}
        }
      ]
    },
    {
      "cell_type": "markdown",
      "source": [
        "Теперь попробуем обучить на этих данных модель линейной регрессии."
      ],
      "metadata": {
        "id": "MIvXZW_QRC5Q"
      }
    },
    {
      "cell_type": "code",
      "source": [
        "a, b = 1, 1\n",
        "n = 101\n",
        "nu = 0.1\n",
        "df['pred'] = a * df['x'] + b\n",
        "for i in range(n):\n",
        "  df['err'] = df['y'] - df['pred']\n",
        "  df['a_change'] = df['x'] * np.sign(df['err'])\n",
        "  df['b_change'] = np.sign(df['err'])\n",
        "\n",
        "  a += nu * df['a_change'].mean()\n",
        "  b += nu * df['b_change'].mean()\n",
        "\n",
        "  df['pred'] = a *df['x'] + b\n",
        "  df['err'] = df['y'] - df['pred']\n",
        "  df['err_abs'] = np.abs(df['err'])\n",
        "  if i%5 == 0:\n",
        "    print(f'Для итерации {i} абсолютная ошибка равна {df[\"err_abs\"].mean():.4f}')"
      ],
      "metadata": {
        "colab": {
          "base_uri": "https://localhost:8080/"
        },
        "id": "GJluOHq64BWg",
        "outputId": "2a683909-c6d7-4bf2-f569-1823e102e3f3"
      },
      "execution_count": 520,
      "outputs": [
        {
          "output_type": "stream",
          "name": "stdout",
          "text": [
            "Для итерации 0 абсолютная ошибка равна 0.5665\n",
            "Для итерации 5 абсолютная ошибка равна 0.3647\n",
            "Для итерации 10 абсолютная ошибка равна 0.2265\n",
            "Для итерации 15 абсолютная ошибка равна 0.2050\n",
            "Для итерации 20 абсолютная ошибка равна 0.2032\n",
            "Для итерации 25 абсолютная ошибка равна 0.2032\n",
            "Для итерации 30 абсолютная ошибка равна 0.2032\n",
            "Для итерации 35 абсолютная ошибка равна 0.2032\n",
            "Для итерации 40 абсолютная ошибка равна 0.2032\n",
            "Для итерации 45 абсолютная ошибка равна 0.2032\n",
            "Для итерации 50 абсолютная ошибка равна 0.2033\n",
            "Для итерации 55 абсолютная ошибка равна 0.2032\n",
            "Для итерации 60 абсолютная ошибка равна 0.2032\n",
            "Для итерации 65 абсолютная ошибка равна 0.2033\n",
            "Для итерации 70 абсолютная ошибка равна 0.2032\n",
            "Для итерации 75 абсолютная ошибка равна 0.2032\n",
            "Для итерации 80 абсолютная ошибка равна 0.2032\n",
            "Для итерации 85 абсолютная ошибка равна 0.2032\n",
            "Для итерации 90 абсолютная ошибка равна 0.2032\n",
            "Для итерации 95 абсолютная ошибка равна 0.2033\n",
            "Для итерации 100 абсолютная ошибка равна 0.2032\n"
          ]
        }
      ]
    },
    {
      "cell_type": "markdown",
      "source": [
        "Здесь линейная регрессия быстро находит оптимальные параметры, но всё ещё сохраняет значительную ошибку. Визуальная репрезентация будет выглядеть так:"
      ],
      "metadata": {
        "id": "TnTcQJvWRYEq"
      }
    },
    {
      "cell_type": "code",
      "source": [
        "x = np.linspace(-3,3, num=1000)\n",
        "plt.title('Применение линейной регрессии')\n",
        "plt.xlabel('Количество N')\n",
        "plt.ylabel('Статус N')\n",
        "\n",
        "plt.plot(x, a * x + b, c='r', label = 'Прогноз')\n",
        "plt.scatter(df['x'], df['y'], c='b', label = 'Факт')\n",
        "plt.plot([-1,1],[0.5,0.5],c='g')\n",
        "plt.legend()"
      ],
      "metadata": {
        "colab": {
          "base_uri": "https://localhost:8080/",
          "height": 490
        },
        "id": "HFvY1X0UUmYW",
        "outputId": "fb945012-c5d3-42fa-f888-d2c19eb33f14"
      },
      "execution_count": 521,
      "outputs": [
        {
          "output_type": "execute_result",
          "data": {
            "text/plain": [
              "<matplotlib.legend.Legend at 0x784cdc678910>"
            ]
          },
          "metadata": {},
          "execution_count": 521
        },
        {
          "output_type": "display_data",
          "data": {
            "text/plain": [
              "<Figure size 640x480 with 1 Axes>"
            ],
            "image/png": "[encoded data removed]"
          },
          "metadata": {}
        }
      ]
    },
    {
      "cell_type": "markdown",
      "source": [
        "Как видно из графика выше, при построении линейной регрессии мы можем получить очень большие или очень маленькие значения `y`. При, скажем, `x` равном -3, `y` будет равняться -0,5, что не совсем удобно переводить в вероятность. Можно, конечно, принять, что все значения до определенной границы относятся к `y=0`, а после - к `y=1` (зеленая линия на графике),\n",
        "\n",
        "Но есть более удобный вариант - применить формулу сигмоиды для расчета значения прогноза, тогда мы будем на выходе получать значение вероятности от 0 до 1.\n",
        "\n",
        "Таким образом, линейная регрессия показывает предполагаемое значение зависимой величины, а логистическая регрессия — вероятность, что величина примет одно из двух бинарных значений.\n",
        "\n",
        "На графике это будет выглядеть так (он интерактивный, можно менять наборы параметров):\n"
      ],
      "metadata": {
        "id": "e2UeX9y6RmUR"
      }
    },
    {
      "cell_type": "code",
      "source": [
        "from ipywidgets import interactive\n",
        "\n",
        "def f(a,b):\n",
        "  plt.figure(2)\n",
        "  x = np.linspace(-3,3, num=1000)\n",
        "  plt.grid()\n",
        "  plt.plot(df['x'], 1/(1+np.exp(-(a * df['x'] + b))), c='r')\n",
        "  plt.scatter(df['x'], df['y'], c='b')\n",
        "\n",
        "interactive_plot = interactive(f, a=(-3.0,3.0), b=(-3,3,0.5))\n",
        "output = interactive_plot.children[-1]\n",
        "output.layout.height = '420px'\n",
        "interactive_plot"
      ],
      "metadata": {
        "colab": {
          "base_uri": "https://localhost:8080/",
          "height": 501,
          "referenced_widgets": [
            "c61589e09a9848cd8302028c9c3739fc",
            "771810bc54c94f1687e8627e78393481",
            "1564a99d979345b8989aa121d7ca180b",
            "e9d39d9e7226475f9a71aba74a596067",
            "980fd196c5b349689fb7fe558d828367",
            "8aa927cc42a346f1b44d7aa932ce6675",
            "2360403190f2469eae135750b8ff58d9",
            "1b5a22bea565498a936b1244b8a36ff0",
            "cab8bc5007994d3ba158036528333b04",
            "c10de164fe00481abc2a638463c0ef8b"
          ]
        },
        "id": "7wXIFIfDf92w",
        "outputId": "5342f35c-873c-45f3-d461-e758a99d524a"
      },
      "execution_count": 522,
      "outputs": [
        {
          "output_type": "display_data",
          "data": {
            "text/plain": [
              "interactive(children=(FloatSlider(value=0.0, description='a', max=3.0, min=-3.0), FloatSlider(value=0.0, descr…"
            ],
            "application/vnd.jupyter.widget-view+json": {
              "version_major": 2,
              "version_minor": 0,
              "model_id": "c61589e09a9848cd8302028c9c3739fc"
            }
          },
          "metadata": {}
        }
      ]
    },
    {
      "cell_type": "markdown",
      "source": [
        "Теперь выведем производную из функции ошибки (`у-сигмоида`)"
      ],
      "metadata": {
        "id": "MPEX2tPoV_Ud"
      }
    },
    {
      "cell_type": "code",
      "source": [
        "x_ = Symbol('x', real=True)\n",
        "y_ = Symbol('y', real=True)\n",
        "a_ = Symbol('a', real=True)\n",
        "b_ = Symbol('b', real=True)"
      ],
      "metadata": {
        "id": "2cEPQO8JiwrA"
      },
      "execution_count": 523,
      "outputs": []
    },
    {
      "cell_type": "code",
      "source": [
        "e = Abs(y_ - 1/(1+exp(-a_*x_-b_)))\n"
      ],
      "metadata": {
        "id": "L6gj4CyNp3Y3"
      },
      "execution_count": 524,
      "outputs": []
    },
    {
      "cell_type": "code",
      "source": [
        "str(e)"
      ],
      "metadata": {
        "colab": {
          "base_uri": "https://localhost:8080/",
          "height": 35
        },
        "id": "Jl71hLl9qRkf",
        "outputId": "0bf24054-d6fc-494d-a56e-8486d5fc817a"
      },
      "execution_count": 525,
      "outputs": [
        {
          "output_type": "execute_result",
          "data": {
            "text/plain": [
              "'Abs(y - 1/(exp(-a*x - b) + 1))'"
            ],
            "application/vnd.google.colaboratory.intrinsic+json": {
              "type": "string"
            }
          },
          "metadata": {},
          "execution_count": 525
        }
      ]
    },
    {
      "cell_type": "code",
      "source": [
        "str(diff(e,a_))"
      ],
      "metadata": {
        "colab": {
          "base_uri": "https://localhost:8080/",
          "height": 35
        },
        "id": "UhjSopJeqkzC",
        "outputId": "572a93e4-47b4-4f21-9ee5-72f7157fa2d0"
      },
      "execution_count": 526,
      "outputs": [
        {
          "output_type": "execute_result",
          "data": {
            "text/plain": [
              "'-x*exp(-a*x - b)*sign(y - 1/(exp(-a*x - b) + 1))/(exp(-a*x - b) + 1)**2'"
            ],
            "application/vnd.google.colaboratory.intrinsic+json": {
              "type": "string"
            }
          },
          "metadata": {},
          "execution_count": 526
        }
      ]
    },
    {
      "cell_type": "code",
      "source": [
        "str(diff(e,b_))"
      ],
      "metadata": {
        "colab": {
          "base_uri": "https://localhost:8080/",
          "height": 35
        },
        "id": "FWgA8q-jqzNJ",
        "outputId": "f00f817d-14eb-4ac7-bdf8-34fcaac22cbc"
      },
      "execution_count": 527,
      "outputs": [
        {
          "output_type": "execute_result",
          "data": {
            "text/plain": [
              "'-exp(-a*x - b)*sign(y - 1/(exp(-a*x - b) + 1))/(exp(-a*x - b) + 1)**2'"
            ],
            "application/vnd.google.colaboratory.intrinsic+json": {
              "type": "string"
            }
          },
          "metadata": {},
          "execution_count": 527
        }
      ]
    },
    {
      "cell_type": "markdown",
      "source": [
        "И применим эту формулу для выражения выше, чтобы посчитать логистическую регрессию и оптимизировать её с помощью найденного (анти)градиента."
      ],
      "metadata": {
        "id": "XF2SN-u6WHPF"
      }
    },
    {
      "cell_type": "code",
      "source": [
        "df = df[['x', 'y']].copy()\n",
        "a, b = 1, 1\n",
        "n = 501\n",
        "nu = 0.1\n",
        "df['pred'] = 1/(1+np.exp(-(a * df['x'] + b)))\n",
        "for i in range(n):\n",
        "  df['err'] = df['y'] - df['pred']\n",
        "\n",
        "  df['a_change'] = df['x']*np.exp(-a*df['x'] - b)*np.sign(df['y'] - 1/(np.exp(-a*df['x'] - b) + 1))/(np.exp(-a*df['x'] - b) + 1)**2\n",
        "  df['b_change'] = np.exp(-a*df['x'] - b)*np.sign(df['y'] - 1/(np.exp(-a*df['x'] - b) + 1))/(np.exp(-a*df['x'] - b) + 1)**2\n",
        "\n",
        "  a += nu * df['a_change'].mean()\n",
        "  b += nu * df['b_change'].mean()\n",
        "\n",
        "  df['pred'] = 1/(1+np.exp(-(a * df['x'] + b)))\n",
        "\n",
        "  df['err'] = df['y'] - df['pred']\n",
        "  df['err_abs'] = np.abs(df['err'])\n",
        "  if i%50 == 0:\n",
        "    print(f\"Абсолютная ошибка логистической регрессии для итерации {i} равна {df['err_abs'].mean():.4f}\")"
      ],
      "metadata": {
        "colab": {
          "base_uri": "https://localhost:8080/"
        },
        "id": "B0tblIb1rtGr",
        "outputId": "378f8365-94cf-45dc-ce85-df20d8c683d4"
      },
      "execution_count": 528,
      "outputs": [
        {
          "output_type": "stream",
          "name": "stdout",
          "text": [
            "Абсолютная ошибка логистической регрессии для итерации 0 равна 0.3386\n",
            "Абсолютная ошибка логистической регрессии для итерации 50 равна 0.2451\n",
            "Абсолютная ошибка логистической регрессии для итерации 100 равна 0.1966\n",
            "Абсолютная ошибка логистической регрессии для итерации 150 равна 0.1707\n",
            "Абсолютная ошибка логистической регрессии для итерации 200 равна 0.1550\n",
            "Абсолютная ошибка логистической регрессии для итерации 250 равна 0.1444\n",
            "Абсолютная ошибка логистической регрессии для итерации 300 равна 0.1366\n",
            "Абсолютная ошибка логистической регрессии для итерации 350 равна 0.1307\n",
            "Абсолютная ошибка логистической регрессии для итерации 400 равна 0.1259\n",
            "Абсолютная ошибка логистической регрессии для итерации 450 равна 0.1219\n",
            "Абсолютная ошибка логистической регрессии для итерации 500 равна 0.1186\n"
          ]
        }
      ]
    },
    {
      "cell_type": "markdown",
      "source": [
        "Как можно увидеть, абсолютная ошибка также уменьшилась. Сравним её с моделью SKLearn-a:"
      ],
      "metadata": {
        "id": "meEqI7rkWfpH"
      }
    },
    {
      "cell_type": "code",
      "source": [
        "logreg = LogisticRegression()\n",
        "logreg.fit(df[['x']], df['y'])\n",
        "df['lr_pred'] = logreg.predict_proba(df[['x']])[:,1]"
      ],
      "metadata": {
        "id": "BIOW8IDYyVoC"
      },
      "execution_count": 529,
      "outputs": []
    },
    {
      "cell_type": "code",
      "source": [
        "plt.plot(df['x'], df['pred'], c='r', label = 'Прогноз')\n",
        "plt.plot(df['x'], df['lr_pred'], label = 'Прогноз SKLearn')\n",
        "\n",
        "plt.scatter(df['x'], df['y'], c='b', label = 'Факт')\n",
        "plt.legend()"
      ],
      "metadata": {
        "colab": {
          "base_uri": "https://localhost:8080/",
          "height": 448
        },
        "id": "r7__obhfw1np",
        "outputId": "7a174237-04a4-41e7-b444-cd1f0cf392cc"
      },
      "execution_count": 530,
      "outputs": [
        {
          "output_type": "execute_result",
          "data": {
            "text/plain": [
              "<matplotlib.legend.Legend at 0x784ccb8aa350>"
            ]
          },
          "metadata": {},
          "execution_count": 530
        },
        {
          "output_type": "display_data",
          "data": {
            "text/plain": [
              "<Figure size 640x480 with 1 Axes>"
            ],
            "image/png": "[encoded data removed]"
          },
          "metadata": {}
        }
      ]
    },
    {
      "cell_type": "markdown",
      "source": [
        "И найдем ROC-AUC score для обеих моделей (что это см. ниже)."
      ],
      "metadata": {
        "id": "DNOZ3EP0Wopk"
      }
    },
    {
      "cell_type": "code",
      "source": [
        "print(roc_auc_score(df['y'], df['pred']))\n",
        "print(roc_auc_score(df['y'], df['lr_pred']))"
      ],
      "metadata": {
        "colab": {
          "base_uri": "https://localhost:8080/"
        },
        "id": "VTCEMxQsyqpp",
        "outputId": "271d081a-c88e-43a2-b30e-82c263ee96ae"
      },
      "execution_count": 531,
      "outputs": [
        {
          "output_type": "stream",
          "name": "stdout",
          "text": [
            "1.0\n",
            "1.0\n"
          ]
        }
      ]
    },
    {
      "cell_type": "markdown",
      "source": [
        "# Описание метода максимального правдоподобия как функции ошибки для логистической регрессии"
      ],
      "metadata": {
        "id": "xFEtIB-R4zNn"
      }
    },
    {
      "cell_type": "markdown",
      "source": [
        "В логистической регрессии в качестве функции потерь используют метод максимального правдоподобия, а не MSE или AE/RMSE.\n",
        "\n",
        "Для логистической регрессии функция ошибки будет иметь вид:\n",
        "- для `y = 1`:\n",
        "$p(y_1) * p(y_2) * p(y_3)... * p(y_n)$\n",
        "- для `y = 0`:\n",
        "$(1-p(y_1)) * (1-p(y_2)) * (1-p(y_3))... * (1-p(y_n))$\n",
        "\n",
        "После чего получившиеся произведения перемножаются.\n",
        "Для того, чтобы избежать умножения и получения в результате числа с очень большим числом нулей после запятой берут логарифм. Получившаяся функция со знаком минус называется **Logloss**. Выглядит это так:\n",
        "\n",
        "$-\\Sigma^{n}_{i=1}  y * log(p) + (1-y) * log(1-p)$.\n",
        "\n",
        "Так как нам нужно идти в обратную сторону от направления скорейшего роста - мы убираем минус из начала выражения.\n",
        "По этой формуле если `y = 1`, то остается только правая часть выражения, если `y = 0` - левая.\n",
        "\n",
        "`p` в данном случае - функция сигмоиды с определенным набором параметров `a` и `b`.\n",
        "Таким образом, для логистической регрессии функция принимает вид\n",
        "\n",
        "$\\Sigma^{n}_{i=1}  y * log(\\frac{1}{1+e^{-ax-b}}) + (1-y) * log(1-\\frac{1}{1+e^{-ax-b}})$.\n",
        "\n",
        "Для функции ошибки в данном случае требуется её максимизация."
      ],
      "metadata": {
        "id": "_dkjCrY_W7OC"
      }
    },
    {
      "cell_type": "markdown",
      "source": [
        "Производная этой фукции по a:\n",
        "\n",
        "$\\frac{x(e^{ax+b}(-1+y)+y)}{1+e^{ax+b}}$\n",
        "\n",
        "Ошибка в данном случае имеет вид $y - \\frac{1}{1+e^{-ax-b}}$"
      ],
      "metadata": {
        "id": "wM0Aor5uEJbM"
      }
    },
    {
      "cell_type": "markdown",
      "source": [
        "При делении верхнего выражения на нижнее получается `x`. Т.е. Производная ошибки по `a` равна $x * (y - \\frac{1}{1+e^{-ax-b}})$.\n",
        "\n",
        "По b всё то же самое, только без x в начале $(y - \\frac{1}{1+e^{-ax-b}})$.\n",
        "\n",
        "Таким образом, формулы для обновления a_change и b_change будут выглядеть следующим образом:\n",
        "\n",
        "```\n",
        "df['a_change'] = df['x'] * df['err']\n",
        "df['b_change'] = np.sign(df['err'])\n",
        "```\n",
        "Применим полученные формулы для нашей логистической регрессии:\n"
      ],
      "metadata": {
        "id": "HfAu4LLfHOsQ"
      }
    },
    {
      "cell_type": "code",
      "source": [
        "df = df[['x', 'y']].copy()\n",
        "a, b = 1, 1\n",
        "n = 501\n",
        "nu = 0.05\n",
        "df['pred'] = 1/(1+np.exp(-(a * df['x'] + b)))\n",
        "\n",
        "for i in range(n):\n",
        "  df['err'] = df['y'] - df['pred']\n",
        "\n",
        "  df['a_change'] = df['x']*df['err']\n",
        "  df['b_change'] = df['err']\n",
        "\n",
        "  a += nu * df['a_change'].mean()\n",
        "  b += nu * df['b_change'].mean()\n",
        "\n",
        "  df['pred'] = 1/(1+np.exp(-(a * df['x'] + b)))\n",
        "\n",
        "  df['err'] = df['y'] - df['pred']\n",
        "  df['err_abs'] = np.abs(df['err'])\n",
        "  df['l'] = df['y']*(np.log(df['pred'])) + (1-df['y'])*(np.log(1-df['pred']))\n",
        "  if i%50 == 0:\n",
        "    print(f\"Logloss для итерации {i} равен {df['l'].sum():.4f}\")\n"
      ],
      "metadata": {
        "colab": {
          "base_uri": "https://localhost:8080/"
        },
        "id": "c9GRGkER_2wl",
        "outputId": "b48dcdec-31ce-4e3e-f145-7356c5b55181"
      },
      "execution_count": 532,
      "outputs": [
        {
          "output_type": "stream",
          "name": "stdout",
          "text": [
            "Logloss для итерации 0 равен -23.6595\n",
            "Logloss для итерации 50 равен -16.2559\n",
            "Logloss для итерации 100 равен -13.2624\n",
            "Logloss для итерации 150 равен -11.7001\n",
            "Logloss для итерации 200 равен -10.7302\n",
            "Logloss для итерации 250 равен -10.0560\n",
            "Logloss для итерации 300 равен -9.5506\n",
            "Logloss для итерации 350 равен -9.1518\n",
            "Logloss для итерации 400 равен -8.8252\n",
            "Logloss для итерации 450 равен -8.5506\n",
            "Logloss для итерации 500 равен -8.3147\n"
          ]
        }
      ]
    },
    {
      "cell_type": "markdown",
      "source": [
        "И сравним её с прогнозом SKLearn-a:"
      ],
      "metadata": {
        "id": "C-GCXretYOxd"
      }
    },
    {
      "cell_type": "code",
      "source": [
        "logreg = LogisticRegression(max_iter=500)\n",
        "logreg.fit(df[['x']], df['y'])\n",
        "df['lr_pred'] = logreg.predict_proba(df[['x']])[:,1]\n",
        "df['l_s'] = df['y']*(np.log(df['lr_pred'])) + (1-df['y'])*(np.log(1-df['lr_pred']))\n",
        "print(f\"Logloss SKLearn равен {df['l_s'].sum():.4f}\")"
      ],
      "metadata": {
        "colab": {
          "base_uri": "https://localhost:8080/"
        },
        "id": "glAtXH07Oiti",
        "outputId": "c272a3a1-f83c-46ef-b434-3cdc1fd0d1a3"
      },
      "execution_count": 533,
      "outputs": [
        {
          "output_type": "stream",
          "name": "stdout",
          "text": [
            "Logloss SKLearn равен -9.2749\n"
          ]
        }
      ]
    },
    {
      "cell_type": "markdown",
      "source": [
        "После чего построим график обеих функций."
      ],
      "metadata": {
        "id": "tzRIo7hGakbe"
      }
    },
    {
      "cell_type": "code",
      "source": [
        "plt.plot(df['x'], df['pred'], c='r', label = 'Прогноз')\n",
        "plt.plot(df['x'], df['lr_pred'], label = 'Прогноз SKLearn')\n",
        "\n",
        "plt.scatter(df['x'], df['y'], c='b', label = 'Факт')\n",
        "plt.legend()"
      ],
      "metadata": {
        "colab": {
          "base_uri": "https://localhost:8080/",
          "height": 448
        },
        "id": "6JeGiW86OaZJ",
        "outputId": "d6b263d7-5d03-478d-9db3-087bb4a12eaf"
      },
      "execution_count": 534,
      "outputs": [
        {
          "output_type": "execute_result",
          "data": {
            "text/plain": [
              "<matplotlib.legend.Legend at 0x784ccb778e90>"
            ]
          },
          "metadata": {},
          "execution_count": 534
        },
        {
          "output_type": "display_data",
          "data": {
            "text/plain": [
              "<Figure size 640x480 with 1 Axes>"
            ],
            "image/png": "[encoded data removed]"
          },
          "metadata": {}
        }
      ]
    },
    {
      "cell_type": "markdown",
      "source": [
        "Как можно увидеть, модели получились очень близкими."
      ],
      "metadata": {
        "id": "ZhU_DUSvYSMQ"
      }
    },
    {
      "cell_type": "markdown",
      "source": [
        "# Метрики"
      ],
      "metadata": {
        "id": "Husyq5smLrDZ"
      }
    },
    {
      "cell_type": "markdown",
      "source": [
        "## Accuracy, precision, recall, F1 score"
      ],
      "metadata": {
        "id": "EJacrefOLsWX"
      }
    },
    {
      "cell_type": "markdown",
      "source": [
        "Всё будет рассчитано для указанной выше модели."
      ],
      "metadata": {
        "id": "6Etzs69CPqWX"
      }
    },
    {
      "cell_type": "code",
      "source": [
        "df['y_pred'] = df['lr_pred'].apply(round)"
      ],
      "metadata": {
        "id": "tQkNery2YtsM"
      },
      "execution_count": 535,
      "outputs": []
    },
    {
      "cell_type": "code",
      "source": [
        "from sklearn.metrics import accuracy_score, precision_score, recall_score, confusion_matrix\n",
        "#Work in progress"
      ],
      "metadata": {
        "id": "7VlmF9lRPlY5"
      },
      "execution_count": 536,
      "outputs": []
    },
    {
      "cell_type": "markdown",
      "source": [
        "## ROC AUC, PR AUC"
      ],
      "metadata": {
        "id": "bX3elCgiLuUZ"
      }
    }
  ]
}